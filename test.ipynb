{
 "cells": [
  {
   "cell_type": "code",
   "execution_count": 1,
   "metadata": {},
   "outputs": [
    {
     "name": "stderr",
     "output_type": "stream",
     "text": [
      "Python(7503) MallocStackLogging: can't turn off malloc stack logging because it was not enabled.\n"
     ]
    },
    {
     "name": "stdout",
     "output_type": "stream",
     "text": [
      "Defaulting to user installation because normal site-packages is not writeable\n",
      "Requirement already satisfied: matplotlib in /Users/williamshi/Library/Python/3.9/lib/python/site-packages (3.9.4)\n",
      "Requirement already satisfied: numpy>=1.23 in /Users/williamshi/Library/Python/3.9/lib/python/site-packages (from matplotlib) (2.0.2)\n",
      "Requirement already satisfied: packaging>=20.0 in /Users/williamshi/Library/Python/3.9/lib/python/site-packages (from matplotlib) (24.2)\n",
      "Requirement already satisfied: pillow>=8 in /Users/williamshi/Library/Python/3.9/lib/python/site-packages (from matplotlib) (11.1.0)\n",
      "Requirement already satisfied: importlib-resources>=3.2.0 in /Users/williamshi/Library/Python/3.9/lib/python/site-packages (from matplotlib) (6.5.2)\n",
      "Requirement already satisfied: python-dateutil>=2.7 in /Users/williamshi/Library/Python/3.9/lib/python/site-packages (from matplotlib) (2.9.0.post0)\n",
      "Requirement already satisfied: kiwisolver>=1.3.1 in /Users/williamshi/Library/Python/3.9/lib/python/site-packages (from matplotlib) (1.4.7)\n",
      "Requirement already satisfied: fonttools>=4.22.0 in /Users/williamshi/Library/Python/3.9/lib/python/site-packages (from matplotlib) (4.56.0)\n",
      "Requirement already satisfied: pyparsing>=2.3.1 in /Users/williamshi/Library/Python/3.9/lib/python/site-packages (from matplotlib) (3.2.1)\n",
      "Requirement already satisfied: contourpy>=1.0.1 in /Users/williamshi/Library/Python/3.9/lib/python/site-packages (from matplotlib) (1.3.0)\n",
      "Requirement already satisfied: cycler>=0.10 in /Users/williamshi/Library/Python/3.9/lib/python/site-packages (from matplotlib) (0.12.1)\n",
      "Requirement already satisfied: zipp>=3.1.0 in /Users/williamshi/Library/Python/3.9/lib/python/site-packages (from importlib-resources>=3.2.0->matplotlib) (3.21.0)\n",
      "Requirement already satisfied: six>=1.5 in /Applications/Xcode.app/Contents/Developer/Library/Frameworks/Python3.framework/Versions/3.9/lib/python3.9/site-packages (from python-dateutil>=2.7->matplotlib) (1.15.0)\n",
      "\u001b[33mWARNING: You are using pip version 21.2.4; however, version 25.0.1 is available.\n",
      "You should consider upgrading via the '/Applications/Xcode.app/Contents/Developer/usr/bin/python3 -m pip install --upgrade pip' command.\u001b[0m\n",
      "Note: you may need to restart the kernel to use updated packages.\n"
     ]
    }
   ],
   "source": [
    "pip install matplotlib"
   ]
  },
  {
   "cell_type": "code",
   "execution_count": 2,
   "metadata": {},
   "outputs": [],
   "source": [
    "import pandas as pd\n",
    "import numpy as np\n",
    "import matplotlib.pyplot as plt"
   ]
  },
  {
   "cell_type": "code",
   "execution_count": 3,
   "metadata": {},
   "outputs": [
    {
     "name": "stdout",
     "output_type": "stream",
     "text": [
      "    bill_paid_at_local  bill_total_billed  bill_total_discount_item_level  \\\n",
      "0  2024-07-01 09:17:01              21.81                             0.0   \n",
      "1  2024-07-01 13:37:00              48.95                             0.0   \n",
      "2  2024-07-01 11:19:32              26.94                             0.0   \n",
      "3  2024-07-01 15:05:59               3.96                             0.0   \n",
      "4  2024-07-01 12:41:00               3.36                             0.0   \n",
      "\n",
      "   bill_total_gratuity  bill_total_net  bill_total_tax  bill_total_voided  \\\n",
      "0                  0.0           19.30            2.51                0.0   \n",
      "1                  0.0           43.32            5.63                0.0   \n",
      "2                  0.0           23.84            3.10                0.0   \n",
      "3                  0.0            3.77            0.19                0.0   \n",
      "4                  0.0            3.20            0.16                0.0   \n",
      "\n",
      "                                           bill_uuid business_date  \\\n",
      "0  240701091701~4D63608F-523C-4EFF-9A4F-78D6C44B5159    2024-07-01   \n",
      "1  240701133659~3A0BEDE2-E9E5-484D-B909-780E485F0D69    2024-07-01   \n",
      "2  240701111931~670EEB85-E939-4924-B92F-C95076B7E930    2024-07-01   \n",
      "3  240701150558~3D6F473E-D5EF-4BB8-AFAB-30DB2A0764C0    2024-07-01   \n",
      "4  240701124059~0521794C-51FC-4C30-A368-995CE4DE105F    2024-07-01   \n",
      "\n",
      "   order_duration_seconds order_seated_at_local order_closed_at_local  \\\n",
      "0                      46   2024-07-01 09:16:15   2024-07-01 09:17:01   \n",
      "1                     288   2024-07-01 13:32:12   2024-07-01 13:37:00   \n",
      "2                     135   2024-07-01 11:17:17   2024-07-01 11:19:32   \n",
      "3                      48   2024-07-01 15:05:11   2024-07-01 15:05:59   \n",
      "4                     103   2024-07-01 12:39:17   2024-07-01 12:41:00   \n",
      "\n",
      "  order_take_out_type_label  \\\n",
      "0                    dinein   \n",
      "1                    dinein   \n",
      "2                    dinein   \n",
      "3                    dinein   \n",
      "4                    dinein   \n",
      "\n",
      "                                          order_uuid  payment_amount  \\\n",
      "0  240701091615~EF1C6E91-B6C4-4DF1-8A92-1B024197FEC3           21.81   \n",
      "1  240701133212~A4C33BFA-A54F-4627-B0C2-7428427FB5DE           48.95   \n",
      "2  240701111717~6074B0AB-2432-484D-BC3F-55CC5D731818           26.94   \n",
      "3  240701150511~EAA68F41-20ED-4FC7-B902-B0B3878AEC82            3.96   \n",
      "4  240701123917~27764E1C-7E7F-4293-ABC7-5921310A654A            3.36   \n",
      "\n",
      "   payment_count  payment_total_tip  sales_revenue_with_tax  \\\n",
      "0              1                0.0                   21.81   \n",
      "1              1                0.0                   48.95   \n",
      "2              1                0.0                   26.94   \n",
      "3              1                0.0                    3.96   \n",
      "4              1                0.0                    3.36   \n",
      "\n",
      "                                       venue_xref_id  \\\n",
      "0  39e5b4830d4d9c14db7368a95b65d5463ea3d095203737...   \n",
      "1  39e5b4830d4d9c14db7368a95b65d5463ea3d095203737...   \n",
      "2  39e5b4830d4d9c14db7368a95b65d5463ea3d095203737...   \n",
      "3  39e5b4830d4d9c14db7368a95b65d5463ea3d095203737...   \n",
      "4  39e5b4830d4d9c14db7368a95b65d5463ea3d095203737...   \n",
      "\n",
      "                                         waiter_uuid  \n",
      "0  161027134744~719D0E09-5CA7-442A-B9FA-BBBF4083B4FD  \n",
      "1  161027134744~719D0E09-5CA7-442A-B9FA-BBBF4083B4FD  \n",
      "2  161027134744~719D0E09-5CA7-442A-B9FA-BBBF4083B4FD  \n",
      "3  161027134744~719D0E09-5CA7-442A-B9FA-BBBF4083B4FD  \n",
      "4  161027134744~719D0E09-5CA7-442A-B9FA-BBBF4083B4FD  \n"
     ]
    }
   ],
   "source": [
    "f = pd.read_csv(\"CxCData/bills.csv\")\n",
    "print(f.head())"
   ]
  },
  {
   "cell_type": "code",
   "execution_count": 4,
   "metadata": {},
   "outputs": [
    {
     "name": "stdout",
     "output_type": "stream",
     "text": [
      "['bill_paid_at_local', 'bill_total_billed', 'bill_total_discount_item_level', 'bill_total_gratuity', 'bill_total_net', 'bill_total_tax', 'bill_total_voided', 'bill_uuid', 'business_date', 'order_duration_seconds', 'order_seated_at_local', 'order_closed_at_local', 'order_take_out_type_label', 'order_uuid', 'payment_amount', 'payment_count', 'payment_total_tip', 'sales_revenue_with_tax', 'venue_xref_id', 'waiter_uuid']\n"
     ]
    }
   ],
   "source": [
    "col = f.columns.tolist()\n",
    "spec_col = f[['bill_total_billed', 'bill_total_net', 'payment_amount']]\n",
    "print(col)"
   ]
  },
  {
   "cell_type": "code",
   "execution_count": 5,
   "metadata": {},
   "outputs": [
    {
     "name": "stdout",
     "output_type": "stream",
     "text": [
      "   bill_paid_at_local  bill_total_billed  bill_total_discount_item_level  \\\n",
      "0 2024-07-01 09:17:01              21.81                             0.0   \n",
      "1 2024-07-01 13:37:00              48.95                             0.0   \n",
      "2 2024-07-01 11:19:32              26.94                             0.0   \n",
      "3 2024-07-01 15:05:59               3.96                             0.0   \n",
      "4 2024-07-01 12:41:00               3.36                             0.0   \n",
      "\n",
      "   bill_total_gratuity  bill_total_net  bill_total_tax  bill_total_voided  \\\n",
      "0                  0.0           19.30            2.51                0.0   \n",
      "1                  0.0           43.32            5.63                0.0   \n",
      "2                  0.0           23.84            3.10                0.0   \n",
      "3                  0.0            3.77            0.19                0.0   \n",
      "4                  0.0            3.20            0.16                0.0   \n",
      "\n",
      "                                           bill_uuid business_date  \\\n",
      "0  240701091701~4D63608F-523C-4EFF-9A4F-78D6C44B5159    2024-07-01   \n",
      "1  240701133659~3A0BEDE2-E9E5-484D-B909-780E485F0D69    2024-07-01   \n",
      "2  240701111931~670EEB85-E939-4924-B92F-C95076B7E930    2024-07-01   \n",
      "3  240701150558~3D6F473E-D5EF-4BB8-AFAB-30DB2A0764C0    2024-07-01   \n",
      "4  240701124059~0521794C-51FC-4C30-A368-995CE4DE105F    2024-07-01   \n",
      "\n",
      "   order_duration_seconds  ... order_closed_at_local  \\\n",
      "0                      46  ...   2024-07-01 09:17:01   \n",
      "1                     288  ...   2024-07-01 13:37:00   \n",
      "2                     135  ...   2024-07-01 11:19:32   \n",
      "3                      48  ...   2024-07-01 15:05:59   \n",
      "4                     103  ...   2024-07-01 12:41:00   \n",
      "\n",
      "  order_take_out_type_label  \\\n",
      "0                    dinein   \n",
      "1                    dinein   \n",
      "2                    dinein   \n",
      "3                    dinein   \n",
      "4                    dinein   \n",
      "\n",
      "                                          order_uuid payment_amount  \\\n",
      "0  240701091615~EF1C6E91-B6C4-4DF1-8A92-1B024197FEC3          21.81   \n",
      "1  240701133212~A4C33BFA-A54F-4627-B0C2-7428427FB5DE          48.95   \n",
      "2  240701111717~6074B0AB-2432-484D-BC3F-55CC5D731818          26.94   \n",
      "3  240701150511~EAA68F41-20ED-4FC7-B902-B0B3878AEC82           3.96   \n",
      "4  240701123917~27764E1C-7E7F-4293-ABC7-5921310A654A           3.36   \n",
      "\n",
      "   payment_count  payment_total_tip  sales_revenue_with_tax  \\\n",
      "0              1                0.0                   21.81   \n",
      "1              1                0.0                   48.95   \n",
      "2              1                0.0                   26.94   \n",
      "3              1                0.0                    3.96   \n",
      "4              1                0.0                    3.36   \n",
      "\n",
      "                                       venue_xref_id  \\\n",
      "0  39e5b4830d4d9c14db7368a95b65d5463ea3d095203737...   \n",
      "1  39e5b4830d4d9c14db7368a95b65d5463ea3d095203737...   \n",
      "2  39e5b4830d4d9c14db7368a95b65d5463ea3d095203737...   \n",
      "3  39e5b4830d4d9c14db7368a95b65d5463ea3d095203737...   \n",
      "4  39e5b4830d4d9c14db7368a95b65d5463ea3d095203737...   \n",
      "\n",
      "                                         waiter_uuid bill_day  \n",
      "0  161027134744~719D0E09-5CA7-442A-B9FA-BBBF4083B4FD   Monday  \n",
      "1  161027134744~719D0E09-5CA7-442A-B9FA-BBBF4083B4FD   Monday  \n",
      "2  161027134744~719D0E09-5CA7-442A-B9FA-BBBF4083B4FD   Monday  \n",
      "3  161027134744~719D0E09-5CA7-442A-B9FA-BBBF4083B4FD   Monday  \n",
      "4  161027134744~719D0E09-5CA7-442A-B9FA-BBBF4083B4FD   Monday  \n",
      "\n",
      "[5 rows x 21 columns]\n"
     ]
    }
   ],
   "source": [
    "def time_format(data):\n",
    "    data['bill_paid_at_local'] = pd.to_datetime(data['bill_paid_at_local'])\n",
    "    data['bill_day'] = data['bill_paid_at_local'].dt.day_name()\n",
    "    return data\n",
    "new = time_format(f)\n",
    "print(new.head())"
   ]
  },
  {
   "cell_type": "code",
   "execution_count": 7,
   "metadata": {},
   "outputs": [
    {
     "name": "stdout",
     "output_type": "stream",
     "text": [
      "bill_day\n",
      "Sunday       39.054182\n",
      "Monday       32.478505\n",
      "Tuesday      33.355745\n",
      "Wednesday    34.138893\n",
      "Thursday     35.269502\n",
      "Friday       38.687830\n",
      "Saturday     40.563742\n",
      "Name: bill_total_billed, dtype: float64\n"
     ]
    },
    {
     "name": "stderr",
     "output_type": "stream",
     "text": [
      "/var/folders/87/bsdsmxqs3_bgd08gznskc43w0000gn/T/ipykernel_1159/2233822701.py:3: FutureWarning: The default of observed=False is deprecated and will be changed to True in a future version of pandas. Pass observed=False to retain current behavior or observed=True to adopt the future default and silence this warning.\n",
      "  average_bill_per_day = f.groupby('bill_day')['bill_total_billed'].mean()\n"
     ]
    }
   ],
   "source": [
    "day_order = ['Sunday', 'Monday', 'Tuesday', 'Wednesday', 'Thursday', 'Friday', 'Saturday']\n",
    "f['bill_day'] = pd.Categorical(f['bill_day'], categories=day_order, ordered=True)\n",
    "average_bill_per_day = f.groupby('bill_day')['bill_total_billed'].mean()\n",
    "print(average_bill_per_day)"
   ]
  },
  {
   "cell_type": "code",
   "execution_count": 8,
   "metadata": {},
   "outputs": [
    {
     "data": {
      "image/png": "[encoded data removed]",
      "text/plain": [
       "<Figure size 800x500 with 1 Axes>"
      ]
     },
     "metadata": {},
     "output_type": "display_data"
    }
   ],
   "source": [
    "average_bill_per_day = average_bill_per_day.sort_index()\n",
    "\n",
    "plt.figure(figsize=(8,5))\n",
    "average_bill_per_day.plot(kind='bar', color='blue')\n",
    "plt.title('Total Bills and Day Of The Week')\n",
    "plt.xlabel('Day of The Week')\n",
    "plt.ylabel('Total Billed')\n",
    "plt.xticks(rotation=45)\n",
    "plt.tight_layout()\n",
    "plt.show()"
   ]
  }
 ],
 "metadata": {
  "kernelspec": {
   "display_name": "Python 3",
   "language": "python",
   "name": "python3"
  },
  "language_info": {
   "codemirror_mode": {
    "name": "ipython",
    "version": 3
   },
   "file_extension": ".py",
   "mimetype": "text/x-python",
   "name": "python",
   "nbconvert_exporter": "python",
   "pygments_lexer": "ipython3",
   "version": "3.9.6"
  }
 },
 "nbformat": 4,
 "nbformat_minor": 2
}

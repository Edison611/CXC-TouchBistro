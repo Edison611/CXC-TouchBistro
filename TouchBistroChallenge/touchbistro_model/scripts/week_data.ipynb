{
 "cells": [
  {
   "cell_type": "code",
   "execution_count": null,
   "metadata": {},
   "outputs": [],
   "source": [
    "import pandas as pd\n",
    "import numpy as np\n",
    "import matplotlib.pyplot as plt"
   ]
  },
  {
   "cell_type": "code",
   "execution_count": null,
   "metadata": {},
   "outputs": [],
   "source": [
    "f = pd.read_csv(\"../data/bills.csv\")\n",
    "f.dropna()\n",
    "print(f.head())"
   ]
  },
  {
   "cell_type": "code",
   "execution_count": null,
   "metadata": {},
   "outputs": [],
   "source": [
    "col = f.columns.tolist()\n",
    "spec_col = f[['bill_total_billed', 'bill_total_net', 'payment_amount']]\n",
    "print(col)"
   ]
  },
  {
   "cell_type": "code",
   "execution_count": null,
   "metadata": {},
   "outputs": [],
   "source": [
    "def time_format(data):\n",
    "    data['bill_paid_at_local'] = pd.to_datetime(data['bill_paid_at_local'])\n",
    "    data['bill_day'] = data['bill_paid_at_local'].dt.day_name()\n",
    "    return data\n",
    "f = time_format(f)\n",
    "f['count'] = f['bill_day'].value_counts()\n",
    "day_counts = f['bill_day'].value_counts().reindex(['Monday', 'Tuesday', 'Wednesday', 'Thursday', 'Friday', 'Saturday', 'Sunday'], fill_value=0).reset_index()\n",
    "day_counts.columns = ['Day', 'Count']\n",
    "print(day_counts)"
   ]
  },
  {
   "cell_type": "code",
   "execution_count": null,
   "metadata": {},
   "outputs": [],
   "source": [
    "plt.figure(figsize=(8, 5))  # Set figure size\n",
    "plt.bar(day_counts['Day'], day_counts['Count'])\n",
    "plt.title('Number of Bills By the Day of the Week')\n",
    "plt.xlabel('Day of the Week')\n",
    "plt.ylabel('Frequency')\n",
    "plt.show()"
   ]
  },
  {
   "cell_type": "code",
   "execution_count": null,
   "metadata": {},
   "outputs": [],
   "source": []
  }
 ],
 "metadata": {
  "kernelspec": {
   "display_name": "cxc",
   "language": "python",
   "name": "python3"
  },
  "language_info": {
   "codemirror_mode": {
    "name": "ipython",
    "version": 3
   },
   "file_extension": ".py",
   "mimetype": "text/x-python",
   "name": "python",
   "nbconvert_exporter": "python",
   "pygments_lexer": "ipython3",
   "version": "3.13.1"
  }
 },
 "nbformat": 4,
 "nbformat_minor": 2
}

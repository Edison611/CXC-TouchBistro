{
 "cells": [
  {
   "cell_type": "code",
   "execution_count": null,
   "metadata": {},
   "outputs": [],
   "source": [
    "import pandas as pd\n",
    "import numpy as np\n",
    "import matplotlib.pyplot as plt"
   ]
  },
  {
   "cell_type": "code",
   "execution_count": null,
   "metadata": {},
   "outputs": [],
   "source": [
    "df = pd.read_csv(\"../data/merged.csv\")\n",
    "# Takes ~30 seconds to run"
   ]
  },
  {
   "cell_type": "code",
   "execution_count": null,
   "metadata": {},
   "outputs": [],
   "source": [
    "columns = df.columns.tolist()\n",
    "\n",
    "print(columns)"
   ]
  },
  {
   "cell_type": "code",
   "execution_count": null,
   "metadata": {},
   "outputs": [],
   "source": [
    "def time_format(data):\n",
    "    bill_day = []\n",
    "    bill_hour = []\n",
    "    bill_minute = []\n",
    "    bill_second = []\n",
    "    for i in data['bill_paid_at_local']:\n",
    "        day = i.split(\" \")[1]\n",
    "        bill_hour.append(int(day.split(\":\")[0]))\n",
    "        bill_minute.append(int(day.split(\":\")[1]))\n",
    "        bill_second.append(int(day.split(\":\")[2]))\n",
    "\n",
    "    data['bill_hour'] = bill_hour\n",
    "    data['bill_minute'] = bill_minute\n",
    "    data['bill_second'] = bill_second\n",
    "    return data\n",
    "\n",
    "df = time_format(df)\n",
    "# print(new.head())\n",
    "print(len(df))"
   ]
  },
  {
   "cell_type": "code",
   "execution_count": null,
   "metadata": {},
   "outputs": [],
   "source": [
    "df = df.dropna()\n",
    "print(len(df))"
   ]
  },
  {
   "cell_type": "markdown",
   "metadata": {},
   "source": [
    "# Histogram of Bills by the Hour"
   ]
  },
  {
   "cell_type": "code",
   "execution_count": null,
   "metadata": {},
   "outputs": [],
   "source": [
    "# Functions for plotting\n",
    "\n",
    "def get_concept_data(data, concept):\n",
    "    return data.loc[data['concept'] == concept]\n",
    "\n",
    "def get_all_concept_data(data):\n",
    "    concepts = data['concept'].unique()\n",
    "    concept_data = {}\n",
    "    for concept in concepts:\n",
    "        concept_data[concept] = get_concept_data(data, concept)\n",
    "    return concept_data\n",
    "\n",
    "def plot_hist_by_hour(data, column, title=\"\"):\n",
    "    plt.figure(figsize=(8, 5)) \n",
    "    plt.hist(data[column], bins=24)\n",
    "    plt.xticks(np.arange(0, 24, 1))\n",
    "    plt.xlabel(column)\n",
    "    plt.ylabel('Frequency')\n",
    "    plt.title(title)\n",
    "    plt.show()\n"
   ]
  },
  {
   "cell_type": "code",
   "execution_count": null,
   "metadata": {},
   "outputs": [],
   "source": [
    "# Note: The actual data is around 9,000,000 rows, so it will take a bit of time to run\n",
    "\n",
    "df_sampled = df.sample(n=min(len(df), 100000), random_state=42) # Only use 100,000 samples for speed\n",
    "\n",
    "# Overall Sample of Everything\n",
    "plot_hist_by_hour(df_sampled, 'bill_hour', 'Bill Payment Hour')\n",
    "\n",
    "# Sample of each concept of restuarant\n",
    "concept_data = get_all_concept_data(df)\n",
    "for concept in concept_data:\n",
    "    d = concept_data[concept]\n",
    "    plot_hist_by_hour(d, 'bill_hour', f'Bill Payment Hour for {concept}')"
   ]
  }
 ],
 "metadata": {
  "kernelspec": {
   "display_name": "cxc",
   "language": "python",
   "name": "python3"
  },
  "language_info": {
   "codemirror_mode": {
    "name": "ipython",
    "version": 3
   },
   "file_extension": ".py",
   "mimetype": "text/x-python",
   "name": "python",
   "nbconvert_exporter": "python",
   "pygments_lexer": "ipython3",
   "version": "3.13.1"
  }
 },
 "nbformat": 4,
 "nbformat_minor": 2
}

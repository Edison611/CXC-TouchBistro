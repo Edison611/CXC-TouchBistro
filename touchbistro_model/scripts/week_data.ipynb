{
 "cells": [
  {
   "cell_type": "code",
   "execution_count": 8,
   "metadata": {},
   "outputs": [],
   "source": [
    "import pandas as pd\n",
    "import numpy as np\n",
    "import matplotlib.pyplot as plt"
   ]
  },
  {
   "cell_type": "code",
   "execution_count": 9,
   "metadata": {},
   "outputs": [
    {
     "name": "stdout",
     "output_type": "stream",
     "text": [
      "    bill_paid_at_local  bill_total_billed  bill_total_discount_item_level  \\\n",
      "0  2024-07-01 09:17:01              21.81                             0.0   \n",
      "1  2024-07-01 13:37:00              48.95                             0.0   \n",
      "2  2024-07-01 11:19:32              26.94                             0.0   \n",
      "3  2024-07-01 15:05:59               3.96                             0.0   \n",
      "4  2024-07-01 12:41:00               3.36                             0.0   \n",
      "\n",
      "   bill_total_gratuity  bill_total_net  bill_total_tax  bill_total_voided  \\\n",
      "0                  0.0           19.30            2.51                0.0   \n",
      "1                  0.0           43.32            5.63                0.0   \n",
      "2                  0.0           23.84            3.10                0.0   \n",
      "3                  0.0            3.77            0.19                0.0   \n",
      "4                  0.0            3.20            0.16                0.0   \n",
      "\n",
      "                                           bill_uuid business_date  \\\n",
      "0  240701091701~4D63608F-523C-4EFF-9A4F-78D6C44B5159    2024-07-01   \n",
      "1  240701133659~3A0BEDE2-E9E5-484D-B909-780E485F0D69    2024-07-01   \n",
      "2  240701111931~670EEB85-E939-4924-B92F-C95076B7E930    2024-07-01   \n",
      "3  240701150558~3D6F473E-D5EF-4BB8-AFAB-30DB2A0764C0    2024-07-01   \n",
      "4  240701124059~0521794C-51FC-4C30-A368-995CE4DE105F    2024-07-01   \n",
      "\n",
      "   order_duration_seconds order_seated_at_local order_closed_at_local  \\\n",
      "0                      46   2024-07-01 09:16:15   2024-07-01 09:17:01   \n",
      "1                     288   2024-07-01 13:32:12   2024-07-01 13:37:00   \n",
      "2                     135   2024-07-01 11:17:17   2024-07-01 11:19:32   \n",
      "3                      48   2024-07-01 15:05:11   2024-07-01 15:05:59   \n",
      "4                     103   2024-07-01 12:39:17   2024-07-01 12:41:00   \n",
      "\n",
      "  order_take_out_type_label  \\\n",
      "0                    dinein   \n",
      "1                    dinein   \n",
      "2                    dinein   \n",
      "3                    dinein   \n",
      "4                    dinein   \n",
      "\n",
      "                                          order_uuid  payment_amount  \\\n",
      "0  240701091615~EF1C6E91-B6C4-4DF1-8A92-1B024197FEC3           21.81   \n",
      "1  240701133212~A4C33BFA-A54F-4627-B0C2-7428427FB5DE           48.95   \n",
      "2  240701111717~6074B0AB-2432-484D-BC3F-55CC5D731818           26.94   \n",
      "3  240701150511~EAA68F41-20ED-4FC7-B902-B0B3878AEC82            3.96   \n",
      "4  240701123917~27764E1C-7E7F-4293-ABC7-5921310A654A            3.36   \n",
      "\n",
      "   payment_count  payment_total_tip  sales_revenue_with_tax  \\\n",
      "0              1                0.0                   21.81   \n",
      "1              1                0.0                   48.95   \n",
      "2              1                0.0                   26.94   \n",
      "3              1                0.0                    3.96   \n",
      "4              1                0.0                    3.36   \n",
      "\n",
      "                                       venue_xref_id  \\\n",
      "0  39e5b4830d4d9c14db7368a95b65d5463ea3d095203737...   \n",
      "1  39e5b4830d4d9c14db7368a95b65d5463ea3d095203737...   \n",
      "2  39e5b4830d4d9c14db7368a95b65d5463ea3d095203737...   \n",
      "3  39e5b4830d4d9c14db7368a95b65d5463ea3d095203737...   \n",
      "4  39e5b4830d4d9c14db7368a95b65d5463ea3d095203737...   \n",
      "\n",
      "                                         waiter_uuid  \n",
      "0  161027134744~719D0E09-5CA7-442A-B9FA-BBBF4083B4FD  \n",
      "1  161027134744~719D0E09-5CA7-442A-B9FA-BBBF4083B4FD  \n",
      "2  161027134744~719D0E09-5CA7-442A-B9FA-BBBF4083B4FD  \n",
      "3  161027134744~719D0E09-5CA7-442A-B9FA-BBBF4083B4FD  \n",
      "4  161027134744~719D0E09-5CA7-442A-B9FA-BBBF4083B4FD  \n"
     ]
    }
   ],
   "source": [
    "f = pd.read_csv(\"../data/bills.csv\")\n",
    "f.dropna()\n",
    "print(f.head())"
   ]
  },
  {
   "cell_type": "code",
   "execution_count": 10,
   "metadata": {},
   "outputs": [
    {
     "name": "stdout",
     "output_type": "stream",
     "text": [
      "['bill_paid_at_local', 'bill_total_billed', 'bill_total_discount_item_level', 'bill_total_gratuity', 'bill_total_net', 'bill_total_tax', 'bill_total_voided', 'bill_uuid', 'business_date', 'order_duration_seconds', 'order_seated_at_local', 'order_closed_at_local', 'order_take_out_type_label', 'order_uuid', 'payment_amount', 'payment_count', 'payment_total_tip', 'sales_revenue_with_tax', 'venue_xref_id', 'waiter_uuid']\n"
     ]
    }
   ],
   "source": [
    "col = f.columns.tolist()\n",
    "spec_col = f[['bill_total_billed', 'bill_total_net', 'payment_amount']]\n",
    "print(col)"
   ]
  },
  {
   "cell_type": "code",
   "execution_count": 11,
   "metadata": {},
   "outputs": [
    {
     "name": "stdout",
     "output_type": "stream",
     "text": [
      "         Day    Count\n",
      "0     Monday   972355\n",
      "1    Tuesday  1082398\n",
      "2  Wednesday  1121196\n",
      "3   Thursday  1214993\n",
      "4     Friday  1571192\n",
      "5   Saturday  1721212\n",
      "6     Sunday  1271440\n"
     ]
    }
   ],
   "source": [
    "def time_format(data):\n",
    "    data['bill_paid_at_local'] = pd.to_datetime(data['bill_paid_at_local'])\n",
    "    data['bill_day'] = data['bill_paid_at_local'].dt.day_name()\n",
    "    return data\n",
    "f = time_format(f)\n",
    "f['count'] = f['bill_day'].value_counts()\n",
    "day_counts = f['bill_day'].value_counts().reindex(['Monday', 'Tuesday', 'Wednesday', 'Thursday', 'Friday', 'Saturday', 'Sunday'], fill_value=0).reset_index()\n",
    "day_counts.columns = ['Day', 'Count']\n",
    "print(day_counts)"
   ]
  },
  {
   "cell_type": "code",
   "execution_count": 13,
   "metadata": {},
   "outputs": [
    {
     "data": {
      "image/png": "[encoded data removed]",
      "text/plain": [
       "<Figure size 800x500 with 1 Axes>"
      ]
     },
     "metadata": {},
     "output_type": "display_data"
    }
   ],
   "source": [
    "plt.figure(figsize=(8, 5))  # Set figure size\n",
    "plt.bar(day_counts['Day'], day_counts['Count'])\n",
    "plt.show()"
   ]
  },
  {
   "cell_type": "code",
   "execution_count": null,
   "metadata": {},
   "outputs": [],
   "source": []
  }
 ],
 "metadata": {
  "kernelspec": {
   "display_name": "cxc",
   "language": "python",
   "name": "python3"
  },
  "language_info": {
   "codemirror_mode": {
    "name": "ipython",
    "version": 3
   },
   "file_extension": ".py",
   "mimetype": "text/x-python",
   "name": "python",
   "nbconvert_exporter": "python",
   "pygments_lexer": "ipython3",
   "version": "3.13.1"
  }
 },
 "nbformat": 4,
 "nbformat_minor": 2
}
